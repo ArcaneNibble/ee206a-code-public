{
 "cells": [
  {
   "cell_type": "code",
   "execution_count": 4,
   "metadata": {},
   "outputs": [],
   "source": [
    "import math\n",
    "import numpy as np"
   ]
  },
  {
   "cell_type": "code",
   "execution_count": 60,
   "metadata": {},
   "outputs": [],
   "source": [
    "def quat2rpy (quaternion):\n",
    "    q0, q1, q2, q3 = quaternion\n",
    "    r = math.atan2(2*(q0*q1+q2*q3), 1-2*(q1**2+q2**2))\n",
    "    p = math.asin(2*(q0*q2-q3*q1))\n",
    "    y = math.atan2(2*(q0*q3+q1*q2), 1-2*(q2**2+q3**2))\n",
    "    return np.array([r, p, y])\n",
    "\n",
    "def cal_lean2(RPY):\n",
    "    r = RPY[0]\n",
    "    p = RPY[1]\n",
    "    y = RPY[2]\n",
    "    print(r)\n",
    "    print(p)\n",
    "    print(y)\n",
    "    Rx = np.array([[1,0,0],[0,math.cos(r),-math.sin(r)],\\\n",
    "                   [0,math.sin(r),math.cos(r)]])\n",
    "    Ry = np.array([[math.cos(p),0,math.sin(p)],[0,1,0],\\\n",
    "                   [-math.sin(p),0,math.cos(p)]])\n",
    "    Rz = np.array([[math.cos(y),-math.sin(y),0],\\\n",
    "                   [math.sin(y),math.cos(y),0],[0,0,1]])\n",
    "    tmp = np.array([[0.0],[0.0],[1.0]])\n",
    "    tmp2 = Rz @ Ry @ Rx @ tmp\n",
    "    print(\"Position is:\",tmp2)\n",
    "    value = math.sqrt(tmp2[0]**2 + tmp2[1]**2)\n",
    "    angle = math.asin(value)\n",
    "    #print(\"value is:\", value)\n",
    "    print(\"Lean angle is:\", angle)\n",
    "    return angle\n",
    "\n",
    "def cal_lean(quaternion):\n",
    "    tmp = [-quaternion[3], quaternion[2], -quaternion[1], quaternion[0]]\n",
    "    inverse = [quaternion[0], -quaternion[1], -quaternion[2],-quaternion[3]]\n",
    "    pos = [0,\\\n",
    "           tmp[0]*inverse[1]+tmp[1]*inverse[0]+tmp[2]*inverse[3]-tmp[3]*inverse[2],\\\n",
    "           tmp[0]*inverse[2]-tmp[1]*inverse[3]+tmp[2]*inverse[0]+tmp[3]*inverse[1],\\\n",
    "           tmp[0]*inverse[3]+tmp[1]*inverse[2]-tmp[2]*inverse[1]+tmp[3]*inverse[0]]\n",
    "    print(\"Position is:\",pos)\n",
    "    value = math.sqrt(pos[1]**2 + pos[2]**2)\n",
    "    angle = math.asin(value)\n",
    "    print(\"Lean angle is:\", angle)\n",
    "    return angle"
   ]
  },
  {
   "cell_type": "code",
   "execution_count": 59,
   "metadata": {},
   "outputs": [
    {
     "name": "stdout",
     "output_type": "stream",
     "text": [
      "Position is: [0, 1.0, 0.0, 0.0]\n",
      "Lean angle is: 1.5707963267948966\n"
     ]
    },
    {
     "data": {
      "text/plain": [
       "1.5707963267948966"
      ]
     },
     "execution_count": 59,
     "metadata": {},
     "output_type": "execute_result"
    }
   ],
   "source": [
    "cal_lean([0.5,0.5,0.5,0.5])"
   ]
  },
  {
   "cell_type": "code",
   "execution_count": null,
   "metadata": {},
   "outputs": [],
   "source": [
    "1.57079632679\n",
    "0.0\n",
    "1.57079632679\n",
    "Position is: [[  1.00000000e+00]\n",
    " [ -6.12323400e-17]\n",
    " [  6.12323400e-17]]\n",
    "Lean angle is: 1.5707963267948966\n",
    "Out[57]:\n",
    "1.5707963267948966"
   ]
  }
 ],
 "metadata": {
  "kernelspec": {
   "display_name": "Python 3",
   "language": "python",
   "name": "python3"
  },
  "language_info": {
   "codemirror_mode": {
    "name": "ipython",
    "version": 3
   },
   "file_extension": ".py",
   "mimetype": "text/x-python",
   "name": "python",
   "nbconvert_exporter": "python",
   "pygments_lexer": "ipython3",
   "version": "3.6.3"
  }
 },
 "nbformat": 4,
 "nbformat_minor": 2
}
